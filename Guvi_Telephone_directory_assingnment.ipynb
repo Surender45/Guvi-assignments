{
  "nbformat": 4,
  "nbformat_minor": 0,
  "metadata": {
    "colab": {
      "provenance": []
    },
    "kernelspec": {
      "name": "python3",
      "display_name": "Python 3"
    },
    "language_info": {
      "name": "python"
    }
  },
  "cells": [
    {
      "cell_type": "markdown",
      "source": [
        "**Installing mongo library**"
      ],
      "metadata": {
        "id": "vBgwcpZhctwn"
      }
    },
    {
      "cell_type": "code",
      "source": [
        "!apt install mongodb >log\n",
        "!service mongodb start"
      ],
      "metadata": {
        "colab": {
          "base_uri": "https://localhost:8080/"
        },
        "id": "CA3bT1-eXh2H",
        "outputId": "7fc02969-9db2-4d6e-c66c-8393c1d205f7"
      },
      "execution_count": 1,
      "outputs": [
        {
          "output_type": "stream",
          "name": "stdout",
          "text": [
            "\n",
            "WARNING: apt does not have a stable CLI interface. Use with caution in scripts.\n",
            "\n",
            " * Starting database mongodb\n",
            "   ...done.\n"
          ]
        }
      ]
    },
    {
      "cell_type": "markdown",
      "source": [
        "**Importing mongo library**"
      ],
      "metadata": {
        "id": "bcwzZQvMc1Kx"
      }
    },
    {
      "cell_type": "code",
      "source": [
        "import pymongo"
      ],
      "metadata": {
        "id": "o7gSIwXyYPNg"
      },
      "execution_count": 2,
      "outputs": []
    },
    {
      "cell_type": "code",
      "source": [
        "client = pymongo.MongoClient(\"mongodb://127.0.0.1:27017/\")"
      ],
      "metadata": {
        "id": "54V1MxuJYWjH"
      },
      "execution_count": 3,
      "outputs": []
    },
    {
      "cell_type": "code",
      "source": [
        "my_dbs = client.list_database_names()\n",
        "print(my_dbs)"
      ],
      "metadata": {
        "colab": {
          "base_uri": "https://localhost:8080/"
        },
        "id": "W5ssxMGdYhOS",
        "outputId": "65c7feb0-0a8a-4b0e-c559-a1bb44743ebb"
      },
      "execution_count": 4,
      "outputs": [
        {
          "output_type": "stream",
          "name": "stdout",
          "text": [
            "['admin', 'local']\n"
          ]
        }
      ]
    },
    {
      "cell_type": "markdown",
      "source": [
        "**Creating Database**"
      ],
      "metadata": {
        "id": "C8aTGm8xdAnu"
      }
    },
    {
      "cell_type": "code",
      "source": [
        "db = client[\"Telephone_directory\"]\n",
        "db"
      ],
      "metadata": {
        "colab": {
          "base_uri": "https://localhost:8080/"
        },
        "id": "qrl3Pvx6YlKR",
        "outputId": "51c7ec42-806c-4e21-da05-cab6e64627dd"
      },
      "execution_count": 7,
      "outputs": [
        {
          "output_type": "execute_result",
          "data": {
            "text/plain": [
              "Database(MongoClient(host=['127.0.0.1:27017'], document_class=dict, tz_aware=False, connect=True), 'Telephone_directory')"
            ]
          },
          "metadata": {},
          "execution_count": 7
        }
      ]
    },
    {
      "cell_type": "markdown",
      "source": [
        "**Creating collection**"
      ],
      "metadata": {
        "id": "FCJzGh8ddEZa"
      }
    },
    {
      "cell_type": "code",
      "source": [
        "details = db[\"telephone\"]"
      ],
      "metadata": {
        "id": "i-oC9Rt5ZBuM"
      },
      "execution_count": 9,
      "outputs": []
    },
    {
      "cell_type": "code",
      "source": [
        "db_collections = db.list_collection_names()          \n",
        "print(db_collections)"
      ],
      "metadata": {
        "colab": {
          "base_uri": "https://localhost:8080/"
        },
        "id": "aEQRY3PSY2um",
        "outputId": "86c6e473-aace-4de2-9ac4-de33829bb56a"
      },
      "execution_count": 8,
      "outputs": [
        {
          "output_type": "stream",
          "name": "stdout",
          "text": [
            "[]\n"
          ]
        }
      ]
    },
    {
      "cell_type": "markdown",
      "source": [
        "**Inserting one document in collection**"
      ],
      "metadata": {
        "id": "tiYUOp22dNkt"
      }
    },
    {
      "cell_type": "code",
      "source": [
        "Subscriber1 = details.insert_one({\"name\": \"Sachin\", \"phone_no\": 9999999999, \"network\": \"jio\"})\n",
        "print(Subscriber1)\n",
        "print(Subscriber1.inserted_id)"
      ],
      "metadata": {
        "colab": {
          "base_uri": "https://localhost:8080/"
        },
        "id": "QEaoDNKDY86i",
        "outputId": "545dc447-351e-4d02-e759-0bac8d19ce55"
      },
      "execution_count": 10,
      "outputs": [
        {
          "output_type": "stream",
          "name": "stdout",
          "text": [
            "<pymongo.results.InsertOneResult object at 0x7ff134dbd6a0>\n",
            "63c4f772f17176a0250ec23a\n"
          ]
        }
      ]
    },
    {
      "cell_type": "markdown",
      "source": [
        "**Inserting multiple data in collection**"
      ],
      "metadata": {
        "id": "fS-eYfRLdToJ"
      }
    },
    {
      "cell_type": "code",
      "source": [
        "data =[{\"name\": \"Surender\", \"phone_no\": 8888888888, \"network\": \"airtel\"},\n",
        "            {\"name\": \"Mark\", \"phone_no\": 7777777777, \"network\": \"jio\"},\n",
        "            {\"name\": \"James\", \"phone_no\": 6666666666, \"network\": \"airtel\"},\n",
        "            {\"name\": \"Aravind\", \"phone_no\": 5555555555, \"network\": \"vi\"},\n",
        "            {\"name\": \"Agilesh\", \"phone_no\": 4444444444, \"network\": \"jio\"},\n",
        "            {\"name\": \"Vijay\", \"phone_no\": 3333333333, \"network\": \"jio\"},\n",
        "            {\"name\": \"Micheal\", \"phone_no\": 2222222222, \"network\": \"jio\"},\n",
        "            {\"name\": \"Samu\", \"phone_no\": 8888899999, \"network\": \"airtel\"}]"
      ],
      "metadata": {
        "id": "ja-bNz97ZvSk"
      },
      "execution_count": 12,
      "outputs": []
    },
    {
      "cell_type": "code",
      "source": [
        "Subscribers = details.insert_many(data)\n",
        "print(Subscribers)\n",
        "print(Subscribers.inserted_ids)"
      ],
      "metadata": {
        "colab": {
          "base_uri": "https://localhost:8080/"
        },
        "id": "5RVcy1Pka7ef",
        "outputId": "6ca6e648-a767-4a2f-b0d3-4f38862ad0be"
      },
      "execution_count": 13,
      "outputs": [
        {
          "output_type": "stream",
          "name": "stdout",
          "text": [
            "<pymongo.results.InsertManyResult object at 0x7ff12ad09b80>\n",
            "[ObjectId('63c4f908f17176a0250ec23b'), ObjectId('63c4f908f17176a0250ec23c'), ObjectId('63c4f908f17176a0250ec23d'), ObjectId('63c4f908f17176a0250ec23e'), ObjectId('63c4f908f17176a0250ec23f'), ObjectId('63c4f908f17176a0250ec240'), ObjectId('63c4f908f17176a0250ec241'), ObjectId('63c4f908f17176a0250ec242')]\n"
          ]
        }
      ]
    },
    {
      "cell_type": "markdown",
      "source": [
        "**Printing the collection**"
      ],
      "metadata": {
        "id": "np4mvvBbdbp6"
      }
    },
    {
      "cell_type": "code",
      "source": [
        "for documents in details.find():\n",
        "    print(documents)"
      ],
      "metadata": {
        "colab": {
          "base_uri": "https://localhost:8080/"
        },
        "id": "JVg1Dbe0bQmx",
        "outputId": "ee56a3f8-7880-4905-f02b-42737f3b40d4"
      },
      "execution_count": 14,
      "outputs": [
        {
          "output_type": "stream",
          "name": "stdout",
          "text": [
            "{'_id': ObjectId('63c4f772f17176a0250ec23a'), 'name': 'Sachin', 'phone_no': 9999999999, 'network': 'jio'}\n",
            "{'_id': ObjectId('63c4f908f17176a0250ec23b'), 'name': 'Surender', 'phone_no': 8888888888, 'network': 'airtel'}\n",
            "{'_id': ObjectId('63c4f908f17176a0250ec23c'), 'name': 'Mark', 'phone_no': 7777777777, 'network': 'jio'}\n",
            "{'_id': ObjectId('63c4f908f17176a0250ec23d'), 'name': 'James', 'phone_no': 6666666666, 'network': 'airtel'}\n",
            "{'_id': ObjectId('63c4f908f17176a0250ec23e'), 'name': 'Aravind', 'phone_no': 5555555555, 'network': 'vi'}\n",
            "{'_id': ObjectId('63c4f908f17176a0250ec23f'), 'name': 'Agilesh', 'phone_no': 4444444444, 'network': 'jio'}\n",
            "{'_id': ObjectId('63c4f908f17176a0250ec240'), 'name': 'Vijay', 'phone_no': 3333333333, 'network': 'jio'}\n",
            "{'_id': ObjectId('63c4f908f17176a0250ec241'), 'name': 'Micheal', 'phone_no': 2222222222, 'network': 'jio'}\n",
            "{'_id': ObjectId('63c4f908f17176a0250ec242'), 'name': 'Samu', 'phone_no': 8888899999, 'network': 'airtel'}\n"
          ]
        }
      ]
    },
    {
      "cell_type": "markdown",
      "source": [
        "**Updating data in the collection**"
      ],
      "metadata": {
        "id": "Cb8jDS9MdgFa"
      }
    },
    {
      "cell_type": "code",
      "source": [
        "name1 = {\"name\":\"Surender\"}\n",
        "name2 = {\"$set\": {\"name\":\"Sure\"}}\n",
        "details.update_one(name1,name2)\n",
        "\n",
        "for document in details.find({},{\"_id\":0}):\n",
        "    print(document)"
      ],
      "metadata": {
        "colab": {
          "base_uri": "https://localhost:8080/"
        },
        "id": "ld2RXgmDbXcO",
        "outputId": "f1c31891-4dbc-41ab-e54f-e284e9e47b7f"
      },
      "execution_count": 15,
      "outputs": [
        {
          "output_type": "stream",
          "name": "stdout",
          "text": [
            "{'name': 'Sachin', 'phone_no': 9999999999, 'network': 'jio'}\n",
            "{'name': 'Sure', 'phone_no': 8888888888, 'network': 'airtel'}\n",
            "{'name': 'Mark', 'phone_no': 7777777777, 'network': 'jio'}\n",
            "{'name': 'James', 'phone_no': 6666666666, 'network': 'airtel'}\n",
            "{'name': 'Aravind', 'phone_no': 5555555555, 'network': 'vi'}\n",
            "{'name': 'Agilesh', 'phone_no': 4444444444, 'network': 'jio'}\n",
            "{'name': 'Vijay', 'phone_no': 3333333333, 'network': 'jio'}\n",
            "{'name': 'Micheal', 'phone_no': 2222222222, 'network': 'jio'}\n",
            "{'name': 'Samu', 'phone_no': 8888899999, 'network': 'airtel'}\n"
          ]
        }
      ]
    },
    {
      "cell_type": "code",
      "source": [
        "name1 = {\"name\":\"Mark\"}\n",
        "name2 = {\"$set\": {\"network\":\"BSNL\", \"phone_no\":8888888899}}\n",
        "details.update_many(name1,name2)\n",
        "\n",
        "for document in details.find({},{\"_id\":0}):\n",
        "  print(document) "
      ],
      "metadata": {
        "colab": {
          "base_uri": "https://localhost:8080/"
        },
        "id": "VKdBzOerbz9u",
        "outputId": "16e9c7ad-4784-4078-c775-69e3f2daf40b"
      },
      "execution_count": 16,
      "outputs": [
        {
          "output_type": "stream",
          "name": "stdout",
          "text": [
            "{'name': 'Sachin', 'phone_no': 9999999999, 'network': 'jio'}\n",
            "{'name': 'Sure', 'phone_no': 8888888888, 'network': 'airtel'}\n",
            "{'name': 'Mark', 'phone_no': 8888888899, 'network': 'BSNL'}\n",
            "{'name': 'James', 'phone_no': 6666666666, 'network': 'airtel'}\n",
            "{'name': 'Aravind', 'phone_no': 5555555555, 'network': 'vi'}\n",
            "{'name': 'Agilesh', 'phone_no': 4444444444, 'network': 'jio'}\n",
            "{'name': 'Vijay', 'phone_no': 3333333333, 'network': 'jio'}\n",
            "{'name': 'Micheal', 'phone_no': 2222222222, 'network': 'jio'}\n",
            "{'name': 'Samu', 'phone_no': 8888899999, 'network': 'airtel'}\n"
          ]
        }
      ]
    },
    {
      "cell_type": "markdown",
      "source": [
        "**Deleting data in the collection**"
      ],
      "metadata": {
        "id": "dZ3qN5qtdpK1"
      }
    },
    {
      "cell_type": "code",
      "source": [
        "details.delete_one({\"name\":\"Aravind\"})\n",
        "for documents in details.find({},{\"_id\":0}):\n",
        "    print(documents)"
      ],
      "metadata": {
        "colab": {
          "base_uri": "https://localhost:8080/"
        },
        "id": "kAJ7XvuBcZbs",
        "outputId": "1963c60f-f36d-47b9-9556-5436b98e5d26"
      },
      "execution_count": 17,
      "outputs": [
        {
          "output_type": "stream",
          "name": "stdout",
          "text": [
            "{'name': 'Sachin', 'phone_no': 9999999999, 'network': 'jio'}\n",
            "{'name': 'Sure', 'phone_no': 8888888888, 'network': 'airtel'}\n",
            "{'name': 'Mark', 'phone_no': 8888888899, 'network': 'BSNL'}\n",
            "{'name': 'James', 'phone_no': 6666666666, 'network': 'airtel'}\n",
            "{'name': 'Agilesh', 'phone_no': 4444444444, 'network': 'jio'}\n",
            "{'name': 'Vijay', 'phone_no': 3333333333, 'network': 'jio'}\n",
            "{'name': 'Micheal', 'phone_no': 2222222222, 'network': 'jio'}\n",
            "{'name': 'Samu', 'phone_no': 8888899999, 'network': 'airtel'}\n"
          ]
        }
      ]
    }
  ]
}